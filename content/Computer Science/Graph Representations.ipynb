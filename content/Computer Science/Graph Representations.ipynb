{
 "cells": [
  {
   "cell_type": "markdown",
   "metadata": {},
   "source": [
    "<h1>Graph</h1>"
   ]
  },
  {
   "cell_type": "markdown",
   "metadata": {},
   "source": [
    "A graph G consists of a set of the nonnegative number of vertices and a set of the nonnegative number of edges that connect two distinct vertices. It provides the ultimate flexibility to represent structure of data.\n",
    "\n",
    "In this article, I will show two ways to how to represent a graph on a computer."
   ]
  },
  {
   "cell_type": "markdown",
   "metadata": {},
   "source": [
    "<h2>Graph ADT</h2>"
   ]
  },
  {
   "cell_type": "code",
   "execution_count": 6,
   "metadata": {},
   "outputs": [
    {
     "data": {
      "text/plain": [
       "defined \u001b[32mtrait\u001b[39m \u001b[36mGraphADT\u001b[39m"
      ]
     },
     "execution_count": 6,
     "metadata": {},
     "output_type": "execute_result"
    }
   ],
   "source": [
    "trait GraphADT {\n",
    "  def numVertices(): Int\n",
    "\n",
    "  def numEdges(): Int\n",
    "\n",
    "  // return the first neighbor of v\n",
    "  def first(v: Int): Option[Int]\n",
    "\n",
    "  // return the next neighbor of v after w\n",
    "  def next(v: Int, w: Int): Option[Int]\n",
    "\n",
    "  def setEdge(s: Int, g: Int, w: Int): Unit\n",
    "\n",
    "  def delEdge(s: Int, g: Int): Unit\n",
    "\n",
    "  def isEdge(s: Int, g: Int): Boolean\n",
    "\n",
    "  def weight(s: Int, g: Int): Option[Int]\n",
    "\n",
    "  def setMark(v: Int, value: Int): Unit\n",
    "\n",
    "  def getMark(v: Int): Int\n",
    "}"
   ]
  },
  {
   "cell_type": "markdown",
   "metadata": {},
   "source": [
    "<h2>Adjacency matrix</h2>"
   ]
  },
  {
   "cell_type": "markdown",
   "metadata": {},
   "source": [
    "We can store all of the information of a graph by matrix, which is two-dimensional array. If there are $V$ vertices and $E$ edges, then the size of the matrix is $V^2$ and $E$ points are filled with the weight or distance of two corresponding vertices. It needs $\\Theta(V^2)$ space, and since the maximum number of edges is $V^2 - V$, it becomes space efficient when there are many edges compared to the vertices."
   ]
  },
  {
   "cell_type": "code",
   "execution_count": 7,
   "metadata": {},
   "outputs": [
    {
     "data": {
      "text/plain": [
       "defined \u001b[32mclass\u001b[39m \u001b[36mMatrixGraph\u001b[39m"
      ]
     },
     "execution_count": 7,
     "metadata": {},
     "output_type": "execute_result"
    }
   ],
   "source": [
    "class MatrixGraph(n: Int) extends GraphADT {\n",
    "  private val matrix: Array[Array[Int]] = Array.ofDim(n, n)\n",
    "  private val mark: Array[Int] = Array[Int](n)\n",
    "  private var numEdge: Int = 0\n",
    "\n",
    "  def numVertices(): Int = mark.length\n",
    "\n",
    "  def numEdges(): Int = numEdge\n",
    "\n",
    "  def first(v: Int): Option[Int] = {\n",
    "    for (i <- mark.indices)\n",
    "      if (matrix(v)(i) != 0) return Some(i)\n",
    "    None\n",
    "  }\n",
    "\n",
    "  def next(v: Int, w: Int): Option[Int] = {\n",
    "    for (i <- w + 1 until mark.length)\n",
    "      if (matrix(v)(i) != 0) return Some(i)\n",
    "    None\n",
    "  }\n",
    "\n",
    "  def setEdge(s: Int, g: Int, w: Int): Unit = {\n",
    "    w match {\n",
    "      case 0 =>\n",
    "      case _ =>\n",
    "        if (matrix(s)(g) != 0) numEdge += 1\n",
    "        matrix(s)(g) = w\n",
    "    }\n",
    "  }\n",
    "\n",
    "  override def delEdge(s: Int, g: Int): Unit = {\n",
    "    if (matrix(s)(g) != 0) numEdge -= 1\n",
    "    matrix(s)(g) = 0\n",
    "  }\n",
    "\n",
    "  override def isEdge(s: Int, g: Int): Boolean = matrix(s)(g) != 0\n",
    "\n",
    "  override def weight(s: Int, g: Int): Option[Int] = {\n",
    "    matrix(s)(g) match {\n",
    "      case 0 => None\n",
    "      case value => Some(value)\n",
    "    }\n",
    "  }\n",
    "\n",
    "  def setMark(v: Int, value: Int): Unit = mark(v) = value\n",
    "\n",
    "  def getMark(v: Int): Int = mark(v)\n",
    "}\n"
   ]
  },
  {
   "cell_type": "markdown",
   "metadata": {},
   "source": [
    "<h2>Adjacency list</h2>"
   ]
  },
  {
   "cell_type": "markdown",
   "metadata": {},
   "source": [
    "When graph has many edges, and the state is called dense, representation using adjavenvy matrix is space efficient. However, in the practical situation, graphs are often sparse, thsat is, there are small number of edges compared to the vertices.\n",
    "\n",
    "Adjacency list representation store all the vertices in an array of linked lists. The elements of the linked lists are information of edges.\n",
    "This allows us to represent a graph using $\\Theta(V + E)$ space."
   ]
  },
  {
   "cell_type": "code",
   "execution_count": 8,
   "metadata": {},
   "outputs": [
    {
     "data": {
      "text/plain": [
       "\u001b[32mimport \u001b[39m\u001b[36mscala.collection.mutable\n",
       "\n",
       "\u001b[39m\n",
       "defined \u001b[32mclass\u001b[39m \u001b[36mEdge\u001b[39m\n",
       "defined \u001b[32mclass\u001b[39m \u001b[36mListGraph\u001b[39m"
      ]
     },
     "execution_count": 8,
     "metadata": {},
     "output_type": "execute_result"
    }
   ],
   "source": [
    "import scala.collection.mutable\n",
    "\n",
    "case class Edge(vertex: Int, weight: Int)\n",
    "\n",
    "class ListGraph(n: Int) extends GraphADT {\n",
    "  private val vertex: mutable.ArrayBuffer[mutable.MutableList[Edge]] =\n",
    "    new mutable.ArrayBuffer[mutable.MutableList[Edge]](n)\n",
    "  for(i <- 0 until n) vertex += mutable.MutableList[Edge]()\n",
    "  private val mark: Array[Int] = Array[Int](n)\n",
    "  private var numEdge = 0\n",
    "\n",
    "  def numVertices(): Int = mark.length\n",
    "\n",
    "  def numEdges(): Int = numEdge\n",
    "\n",
    "  def first(v: Int): Option[Int] = {\n",
    "    vertex(v).isEmpty match {\n",
    "      case true => None\n",
    "      case false => Some(vertex(v).head.vertex)\n",
    "    }\n",
    "  }\n",
    "\n",
    "  def next(v: Int, w: Int): Option[Int] = {\n",
    "    var flag = false\n",
    "    for (edge <- vertex(v)) {\n",
    "      if (flag) return Some(edge.vertex)\n",
    "      if (edge.vertex == w) flag = true\n",
    "    }\n",
    "    None\n",
    "  }\n",
    "\n",
    "  def setEdge(s: Int, g: Int, w: Int): Unit = {\n",
    "    val edge = Edge(g, w)\n",
    "    delEdge(s, g)\n",
    "    vertex(s) += edge\n",
    "  }\n",
    "\n",
    "  def delEdge(s: Int, g: Int): Unit = {\n",
    "    val newList = vertex(s).filter(_.vertex != g)\n",
    "    if (newList.length < vertex(s).length) numEdge -= 1\n",
    "    vertex(s) = newList\n",
    "  }\n",
    "\n",
    "  def isEdge(s: Int, g: Int): Boolean = {\n",
    "    for (edge <- vertex(s))\n",
    "      if (edge.vertex == g) return true\n",
    "    return false\n",
    "  }\n",
    "\n",
    "  def weight(s: Int, g: Int): Option[Int] = {\n",
    "    for (edge <- vertex(s))\n",
    "      if (edge.vertex == g) return Some(edge.weight)\n",
    "    None\n",
    "  }\n",
    "\n",
    "  def setMark(v: Int, value: Int): Unit = mark(v) = value\n",
    "\n",
    "  def getMark(v: Int): Int = mark(v)\n",
    "}"
   ]
  },
  {
   "cell_type": "code",
   "execution_count": null,
   "metadata": {},
   "outputs": [],
   "source": []
  }
 ],
 "metadata": {
  "kernelspec": {
   "display_name": "Scala",
   "language": "scala",
   "name": "scala"
  },
  "language_info": {
   "codemirror_mode": "text/x-scala",
   "file_extension": ".scala",
   "mimetype": "text/x-scala",
   "name": "scala211",
   "nbconvert_exporter": "script",
   "pygments_lexer": "scala",
   "version": "2.11.11"
  }
 },
 "nbformat": 4,
 "nbformat_minor": 2
}
