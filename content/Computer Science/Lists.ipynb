{
 "cells": [
  {
   "cell_type": "markdown",
   "metadata": {},
   "source": [
    "<h1>List</h1>"
   ]
  },
  {
   "cell_type": "markdown",
   "metadata": {},
   "source": [
    "Note: This is the first post in this blog.\n",
    "\n",
    "I will investigate basic data structures and algorithms to understand how they can be implemented and how the implementation affect their performance.\n",
    "The contents is mainly based on Data Structures and Algorithm Analysis (https://people.cs.vt.edu/shaffer/Book/). In the book the implementations are written in Java, however, I will use Scala instead. Also, my own analyses are added to the contennts.\n",
    "Enough talking, let's begin.\n",
    "\n",
    "The list is arguably the most fundamental data structure in computer science. It is just a simple sequence that contain multiple data. However, there are more than one implementation for it. The space complexity of a list and the time complexities of the operations on it is dependent on the implementation.\n",
    "Put implementation aside, we can define the operations we want a list to perform. Let's call it ADT (abstract data types). ADT consists of operations the data structure must perform however they are implemented. It can have the smallest number of operations so that combining the operations can do more complicated operations. First, let's consider it for the list."
   ]
  },
  {
   "cell_type": "markdown",
   "metadata": {},
   "source": [
    "<h2>List \"barebone\" ADT</h2>"
   ]
  },
  {
   "cell_type": "code",
   "execution_count": 3,
   "metadata": {},
   "outputs": [
    {
     "data": {
      "text/plain": [
       "defined \u001b[32mtrait\u001b[39m \u001b[36mBareBoneListADT\u001b[39m"
      ]
     },
     "execution_count": 3,
     "metadata": {},
     "output_type": "execute_result"
    }
   ],
   "source": [
    "trait BareBoneListADT[E] {\n",
    "    def append(item: E): Unit\n",
    "    \n",
    "    def getValue: Option[E]\n",
    "}"
   ]
  },
  {
   "cell_type": "markdown",
   "metadata": {},
   "source": [
    "However, straightforward implementation of this ADT cause performance issue for some of the operations. I will detail it later. Instead, we can come up with ADT with more operation to perform better for the real world requirements."
   ]
  },
  {
   "cell_type": "markdown",
   "metadata": {},
   "source": [
    "<h2>List \"realistic\" ADT</h2>"
   ]
  },
  {
   "cell_type": "code",
   "execution_count": 1,
   "metadata": {},
   "outputs": [
    {
     "data": {
      "text/plain": [
       "defined \u001b[32mtrait\u001b[39m \u001b[36mListADT\u001b[39m"
      ]
     },
     "execution_count": 1,
     "metadata": {},
     "output_type": "execute_result"
    }
   ],
   "source": [
    "trait ListADT[E] {\n",
    "    def clear: Unit\n",
    "    \n",
    "    def insert(item: E): Unit\n",
    "    \n",
    "    def append(item: E): Unit\n",
    "    \n",
    "    def remove: Option[E]\n",
    "    \n",
    "    def moveToStart: Unit\n",
    "    \n",
    "    def moveToEnd: Unit\n",
    "    \n",
    "    def prev: Unit\n",
    "    \n",
    "    def next: Unit\n",
    "    \n",
    "    def length: Int\n",
    "    \n",
    "    def currPos: Int\n",
    "    \n",
    "    def moveToPos(pos: Int): Unit\n",
    "    \n",
    "    def getValue: Option[E]\n",
    "}"
   ]
  },
  {
   "cell_type": "markdown",
   "metadata": {},
   "source": [
    "Note that We have done important design decision in this ADT that we make it hold the current position in a list.\n",
    "There are two distinctive ways we can implement a list. One is called array-based list, and the other is called linked list."
   ]
  },
  {
   "cell_type": "markdown",
   "metadata": {},
   "source": [
    "<h2>Array-based list implementation</h2>"
   ]
  },
  {
   "cell_type": "code",
   "execution_count": 4,
   "metadata": {},
   "outputs": [
    {
     "data": {
      "text/plain": [
       "\u001b[32mimport \u001b[39m\u001b[36mscala.reflect.ClassTag\n",
       "\n",
       "\u001b[39m\n",
       "defined \u001b[32mclass\u001b[39m \u001b[36mAList\u001b[39m"
      ]
     },
     "execution_count": 4,
     "metadata": {},
     "output_type": "execute_result"
    }
   ],
   "source": [
    "import scala.reflect.ClassTag\n",
    "\n",
    "class AList[E: ClassTag](size: Int = 10) extends ListADT[E] {\n",
    "    private val maxSize: Int = size\n",
    "    private var listSize: Int = 0\n",
    "    private var curr: Int = 0\n",
    "    private val listArray: Array[E] = new Array[E](maxSize)\n",
    "    \n",
    "    def clear: Unit = {\n",
    "        listSize = 0\n",
    "        curr = 0\n",
    "    }\n",
    "    \n",
    "    def insert(item: E): Unit = {\n",
    "        for (i <- listSize until curr by -1) listArray(i) = listArray(i - 1)\n",
    "        listArray(curr) = item\n",
    "        listSize += 1\n",
    "    }\n",
    "    \n",
    "    def append(item: E): Unit = {\n",
    "        listSize += 1\n",
    "        listArray(listSize) = item\n",
    "    }\n",
    "    \n",
    "    def remove(): Option[E] = {\n",
    "        curr match {\n",
    "            case _ if (curr < 0 || curr >= listSize) => None\n",
    "            case _ => {\n",
    "                val item = listArray(curr)\n",
    "                for (i <- curr until listSize - 1) listArray(i) = listArray(i + 1)\n",
    "                listSize -= 1\n",
    "                Some(item)\n",
    "            }\n",
    "        }\n",
    "    }\n",
    "    \n",
    "    def moveToStart: Unit = curr = 0\n",
    "    \n",
    "    def moveToEnd: Unit = curr = listSize\n",
    "    \n",
    "    def prev: Unit = if (curr != 0) curr -= 1\n",
    "    \n",
    "    def next: Unit = if (curr < listSize) curr += 1\n",
    "    \n",
    "    def length: Int = listSize\n",
    "    \n",
    "    def currPos: Int = curr\n",
    "    \n",
    "    def moveToPos(pos: Int): Unit = {\n",
    "        assert(pos >= 0 && pos <= listSize)\n",
    "        curr = pos\n",
    "    }\n",
    "    \n",
    "    def getValue: Option[E] = {\n",
    "        // use pattern match to return None if curr is out of range\n",
    "        curr match {\n",
    "            case _ if curr >= 0 && curr < listSize => Some(listArray(curr))\n",
    "            case outOfRange => None\n",
    "        }\n",
    "    }\n",
    "}"
   ]
  },
  {
   "cell_type": "markdown",
   "metadata": {},
   "source": [
    "[^fn1]: https://people.cs.vt.edu/shaffer/Book/"
   ]
  },
  {
   "cell_type": "markdown",
   "metadata": {},
   "source": [
    "<h2>Linked list implementation</h2>"
   ]
  },
  {
   "cell_type": "code",
   "execution_count": 2,
   "metadata": {},
   "outputs": [
    {
     "data": {
      "text/plain": [
       "defined \u001b[32mclass\u001b[39m \u001b[36mLink\u001b[39m\n",
       "defined \u001b[32mclass\u001b[39m \u001b[36mLList\u001b[39m"
      ]
     },
     "execution_count": 2,
     "metadata": {},
     "output_type": "execute_result"
    }
   ],
   "source": [
    "class Link[E](item: Option[E], nextVal: Option[Link[E]]) {\n",
    "    // use pattern match for input to be None\n",
    "    private var linkElement: Option[E] = item\n",
    "    \n",
    "    private var nextLink: Option[Link[E]] = nextVal\n",
    "    \n",
    "    def next: Option[Link[E]] = nextLink\n",
    "    \n",
    "    def setNext(nextVal: Option[Link[E]]): Unit = nextLink = nextVal\n",
    "    \n",
    "    def element: Option[E] = linkElement\n",
    "    \n",
    "    def setElement(item: Option[E]): Unit = linkElement = item\n",
    "}\n",
    "\n",
    "class LList[E](size: Int = 0) extends ListADT[E] {\n",
    "    // ignore the input size which is there for the consistency with AList\n",
    "    private var head: Link[E] = new Link[E](None, None)\n",
    "    \n",
    "    private var tail: Link[E] = head\n",
    "    \n",
    "    private var curr: Link[E] = head\n",
    "    \n",
    "    private var listSize: Int = 0\n",
    "    \n",
    "    def clear: Unit = {\n",
    "        head.setNext(None)\n",
    "        head = new Link[E](None, None)\n",
    "        curr = head\n",
    "        tail = head\n",
    "        listSize = 0\n",
    "    }\n",
    "    \n",
    "    def insert(item: E): Unit = {\n",
    "        curr.setNext(Some(new Link[E](Some(item), curr.next)))\n",
    "        if (tail == curr) tail = curr.next.get\n",
    "        listSize += 1\n",
    "    }\n",
    "    \n",
    "    def append(item: E): Unit = {\n",
    "        tail.setNext(Some(new Link[E](Some(item), None)))\n",
    "        tail = tail.next.get\n",
    "        listSize += 1\n",
    "    }\n",
    "    \n",
    "    def remove: Option[E] = {\n",
    "        curr.next match {\n",
    "            case None => None\n",
    "            case Some(link) => {\n",
    "                val optionItem = link.element\n",
    "                if (tail == link) tail = curr\n",
    "                curr.setNext(link.next)\n",
    "                listSize -= 1\n",
    "                optionItem\n",
    "            }\n",
    "        }\n",
    "    }\n",
    "    \n",
    "    def moveToStart: Unit = curr = head\n",
    "    \n",
    "    def moveToEnd: Unit = curr = tail\n",
    "    \n",
    "    def prev: Unit = {\n",
    "        if (curr == head) return\n",
    "        var temp: Link[E] = head\n",
    "        // Since temp is between head and curr, temp.next is not None\n",
    "        while (temp.next.get != curr) temp = temp.next.get\n",
    "        curr = temp\n",
    "    }\n",
    "    \n",
    "    def next: Unit = if (curr != tail) curr = curr.next.get\n",
    "    \n",
    "    def length: Int = listSize\n",
    "    \n",
    "    def currPos: Int = {\n",
    "        var temp: Link[E] = head\n",
    "        var i = 0\n",
    "        while (i < listSize) {\n",
    "            if (curr == temp) return i\n",
    "            temp = temp.next.get\n",
    "            i += 1\n",
    "        }\n",
    "        i\n",
    "    }\n",
    "    \n",
    "    def moveToPos(pos: Int): Unit = {\n",
    "        assert (pos >= 0 && pos <= listSize)\n",
    "        curr = head\n",
    "        for (i <- 0 until pos) curr = curr.next.get\n",
    "    }\n",
    "    \n",
    "    def getValue: Option[E] = {\n",
    "        curr.next match {\n",
    "            case Some(link) => link.element\n",
    "            case None => None\n",
    "        }\n",
    "    }\n",
    "}"
   ]
  },
  {
   "cell_type": "markdown",
   "metadata": {},
   "source": [
    "This implementation holds several design decision for convenience. The most important one is that the curr (current position) points to the element preceding to the current position. It allows the linked list can perform some of the operation efficiently.\n",
    "\n",
    "Since this linked list is singly-linked, that is, only have the pointer to the next element, some of the operations such as prev takes $\\Theta(n)$ time.\n",
    "One Obvious improvement of singly-linked list is the doubly-linked list. Doubly-linked list lowers time complexity for moving the current position to one previous position though it takes more space on memory."
   ]
  },
  {
   "cell_type": "markdown",
   "metadata": {},
   "source": [
    "<h2>Comparison of list implementations</h2>\n",
    "<h3>Time complexity</h3>"
   ]
  },
  {
   "cell_type": "markdown",
   "metadata": {},
   "source": [
    "| Operation   | Array       | Singly-linked | Doubly-linked |\n",
    "| ----------- |:-----------:|:-------------:|:-------------:|\n",
    "| clear       | $\\Theta(1)$ | $\\Theta(1)$   | $\\Theta(1)$   |\n",
    "| insert      | $\\Theta(n)$ | $\\Theta(1)$   | $\\Theta(1)$   |\n",
    "| append      | $\\Theta(1)$ | $\\Theta(1)$   | $\\Theta(1)$   |\n",
    "| remove      | $\\Theta(n)$ | $\\Theta(1)$   | $\\Theta(1)$   |\n",
    "| moveToStart | $\\Theta(1)$ | $\\Theta(1)$   | $\\Theta(1)$   |\n",
    "| moveToEnd   | $\\Theta(1)$ | $\\Theta(1)$   | $\\Theta(1)$   |\n",
    "| prev        | $\\Theta(1)$ | $\\Theta(n)$   | $\\Theta(1)$   |\n",
    "| next        | $\\Theta(1)$ | $\\Theta(1)$   | $\\Theta(1)$   |\n",
    "| length      | $\\Theta(1)$ | $\\Theta(1)$   | $\\Theta(1)$   |\n",
    "| currPos     | $\\Theta(1)$ | $\\Theta(n)$   | $\\Theta(n)$   |\n",
    "| moveToPos   | $\\Theta(1)$ | $\\Theta(n)$   | $\\Theta(n)$   |\n",
    "| getValue    | $\\Theta(1)$ | $\\Theta(1)$   | $\\Theta(1)$   |"
   ]
  },
  {
   "cell_type": "markdown",
   "metadata": {},
   "source": [
    "<h3>Space complexity and other limitations</h3>"
   ]
  },
  {
   "cell_type": "markdown",
   "metadata": {},
   "source": [
    "Since array-based list needs to know what the maximum number of elements is and  takes space for them, it takes $\\Omega(n)$ space.\n",
    "\n",
    "Linked list does not need to specify the number of elements when it is initialized and it takes $\\Theta(n)$ space. However, linked list needs one or two pointers for each element. It is significant disadvantage compared to array-based list when most of the list is empty."
   ]
  },
  {
   "cell_type": "code",
   "execution_count": null,
   "metadata": {},
   "outputs": [],
   "source": []
  }
 ],
 "metadata": {
  "kernelspec": {
   "display_name": "Scala",
   "language": "scala",
   "name": "scala"
  },
  "language_info": {
   "codemirror_mode": "text/x-scala",
   "file_extension": ".scala",
   "mimetype": "text/x-scala",
   "name": "scala211",
   "nbconvert_exporter": "script",
   "pygments_lexer": "scala",
   "version": "2.11.11"
  }
 },
 "nbformat": 4,
 "nbformat_minor": 2
}
