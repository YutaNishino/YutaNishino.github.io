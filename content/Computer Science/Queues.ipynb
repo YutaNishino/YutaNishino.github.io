{
 "cells": [
  {
   "cell_type": "markdown",
   "metadata": {},
   "source": [
    "<h1>Queues</h1>"
   ]
  },
  {
   "cell_type": "markdown",
   "metadata": {},
   "source": [
    "Like stack, queue is a data structure that have ADT restricted compared with one of list. Queue can perform the operation that append an element at the rear of the queue and remove and return the element at the front.\n",
    "There is a data structure containing queue as a special case and it is called deque (double-ended queue). Deque can perform adding an element at the front of the queue and removing at the rear as well as all operations queue can."
   ]
  },
  {
   "cell_type": "markdown",
   "metadata": {},
   "source": [
    "Since queue implementation is also a special case of it of deque, I will show the array-based and linked implementation of deque. Array-based implementations of queue and deque is nearly identical and adding operations only deque can do is straightforward. Linked queue needs singly-linked list to implement, while linked deque needs doubly-linked list."
   ]
  },
  {
   "cell_type": "markdown",
   "metadata": {},
   "source": [
    "<h2>Deque ADT</h2>"
   ]
  },
  {
   "cell_type": "code",
   "execution_count": 1,
   "metadata": {},
   "outputs": [
    {
     "data": {
      "text/plain": [
       "defined \u001b[32mtrait\u001b[39m \u001b[36mDequeADT\u001b[39m"
      ]
     },
     "execution_count": 1,
     "metadata": {},
     "output_type": "execute_result"
    }
   ],
   "source": [
    "trait DequeADT[E] {\n",
    "    def clear: Unit\n",
    "    \n",
    "    def addFirst(item: E): Unit\n",
    "    \n",
    "    def addLast(item: E): Unit\n",
    "    \n",
    "    def pollFirst: Option[E]\n",
    "    \n",
    "    def pollLast: Option[E]\n",
    "    \n",
    "    def peekFirst: Option[E]\n",
    "    \n",
    "    def peekLast: Option[E]\n",
    "    \n",
    "    def length: Int\n",
    "}"
   ]
  },
  {
   "cell_type": "markdown",
   "metadata": {},
   "source": [
    "<h2>Array-based deque</h2>"
   ]
  },
  {
   "cell_type": "markdown",
   "metadata": {},
   "source": [
    "Unlike list and stack, queue and deque needs circular list to implement. It is an array pretending the last element is the one preceding the first one."
   ]
  },
  {
   "cell_type": "code",
   "execution_count": 3,
   "metadata": {},
   "outputs": [
    {
     "data": {
      "text/plain": [
       "\u001b[32mimport \u001b[39m\u001b[36mscala.reflect.ClassTag\n",
       "\n",
       "\u001b[39m\n",
       "defined \u001b[32mclass\u001b[39m \u001b[36mADeque\u001b[39m"
      ]
     },
     "execution_count": 3,
     "metadata": {},
     "output_type": "execute_result"
    }
   ],
   "source": [
    "import scala.reflect.ClassTag\n",
    "\n",
    "class ADeque[E: ClassTag](size: Int = 10) extends DequeADT[E] {\n",
    "    private val maxSize = size\n",
    "    private var front: Int = 0\n",
    "    private var rear: Int = 0\n",
    "    private var listSize: Int = 0\n",
    "    private val listArray: Array[E] = new Array[E](maxSize)\n",
    "    \n",
    "    def clear: Unit = {\n",
    "        front = 0\n",
    "        rear = 0\n",
    "        listSize = 0\n",
    "    }\n",
    "    \n",
    "    def addFirst(item: E): Unit = {\n",
    "        listSize match {\n",
    "            case _ if listSize == maxSize =>\n",
    "            case _ =>\n",
    "                listArray(front) = item\n",
    "                front = (front + maxSize - 1) % maxSize\n",
    "                listSize += 1\n",
    "        }\n",
    "    }\n",
    "    \n",
    "    def addLast(item: E): Unit = {\n",
    "        listSize match {\n",
    "            case _ if listSize == maxSize =>\n",
    "            case _ =>\n",
    "                rear = (rear + 1) % maxSize\n",
    "                listSize += 1\n",
    "                listArray(rear) = item\n",
    "        }\n",
    "    }\n",
    "    \n",
    "    def pollFirst: Option[E] = {\n",
    "        listSize match {\n",
    "            case 0 => None\n",
    "            case _ =>\n",
    "                front = (front + 1) % maxSize\n",
    "                listSize -= 1\n",
    "                Some(listArray(front))\n",
    "        }\n",
    "    }\n",
    "    \n",
    "    def pollLast: Option[E] = {\n",
    "        listSize match {\n",
    "            case 0 => None\n",
    "            case _ =>\n",
    "                val optionItem: Option[E] = Some(listArray(rear))\n",
    "                rear = (rear + maxSize - 1) % maxSize\n",
    "                listSize -= 1\n",
    "                optionItem\n",
    "        }\n",
    "    }\n",
    "    \n",
    "    def peekFirst: Option[E] = {\n",
    "        listSize match {\n",
    "            case 0 => None\n",
    "            case _ => Some(listArray((front + 1) % maxSize))\n",
    "        }\n",
    "    }\n",
    "\n",
    "    def peekLast: Option[E] = {\n",
    "        listSize match {\n",
    "            case 0 => None\n",
    "            case _ => Some(listArray(rear))\n",
    "        }\n",
    "    }\n",
    "    \n",
    "    def length: Int = listSize\n",
    "}"
   ]
  },
  {
   "cell_type": "markdown",
   "metadata": {},
   "source": [
    "<h2>Linked deque</h2>"
   ]
  },
  {
   "cell_type": "code",
   "execution_count": 4,
   "metadata": {},
   "outputs": [
    {
     "data": {
      "text/plain": [
       "defined \u001b[32mclass\u001b[39m \u001b[36mDLink\u001b[39m\n",
       "defined \u001b[32mclass\u001b[39m \u001b[36mLDeque\u001b[39m"
      ]
     },
     "execution_count": 4,
     "metadata": {},
     "output_type": "execute_result"
    }
   ],
   "source": [
    "class DLink[E](item: Option[E], nextVal: Option[DLink[E]], prevVal: Option[DLink[E]]) {\n",
    "    private var linkElement: Option[E] = item\n",
    "    \n",
    "    private var nextLink: Option[DLink[E]] = nextVal\n",
    "    \n",
    "    private var prevLink: Option[DLink[E]] = prevVal\n",
    "    \n",
    "    def next: Option[DLink[E]] = nextLink\n",
    "    \n",
    "    def setNext(nextVal: Option[DLink[E]]): Unit = nextLink = nextVal\n",
    "    \n",
    "    def prev: Option[DLink[E]] = prevLink\n",
    "    \n",
    "    def setPrev(prevVal: Option[DLink[E]]): Unit = prevLink = prevVal\n",
    "    \n",
    "    def element: Option[E] = linkElement\n",
    "    \n",
    "    def setElement(item: Option[E]): Unit = linkElement = item\n",
    "}\n",
    "\n",
    "class LDeque[E] extends DequeADT[E] {\n",
    "    private var front: DLink[E] = new DLink[E](None, None, None)\n",
    "    \n",
    "    private var rear: DLink[E] = front\n",
    "    \n",
    "    private var dequeSize: Int = 0\n",
    "    \n",
    "    def clear: Unit = {\n",
    "        front = new DLink[E](None, None, None)\n",
    "        rear = front\n",
    "        dequeSize = 0\n",
    "    }\n",
    "    \n",
    "    def addFirst(item: E): Unit = {\n",
    "        val element = new DLink[E](Some(item), front.next, Some(front))\n",
    "        // when deque is empty\n",
    "        front.next match {\n",
    "            case None => rear = element\n",
    "            case Some(_) =>\n",
    "        }\n",
    "        front.setNext(Some(element))\n",
    "        dequeSize += 1\n",
    "    }\n",
    "    \n",
    "    def addLast(item: E): Unit = {\n",
    "        rear.setNext(Some(new DLink[E](Some(item), None, Some(rear))))\n",
    "        rear = rear.next.get\n",
    "        dequeSize += 1\n",
    "    }\n",
    "    \n",
    "    def pollFirst: Option[E] = {\n",
    "        dequeSize match {\n",
    "            case 0 => None\n",
    "            case _ =>\n",
    "                val optionItem = front.next.get.element\n",
    "                front.setNext(front.next.get.next)\n",
    "                if (front.next.isEmpty) rear = front\n",
    "                dequeSize -= 1\n",
    "                optionItem\n",
    "        }\n",
    "    }\n",
    "    \n",
    "    def pollLast: Option[E] = {\n",
    "        dequeSize match {\n",
    "            case 0 => None\n",
    "            case _ =>\n",
    "                val optionItem = rear.element\n",
    "                rear = rear.prev.get\n",
    "                dequeSize -= 1\n",
    "                optionItem\n",
    "        }\n",
    "    }\n",
    "    \n",
    "    def peekFirst: Option[E] = {\n",
    "        dequeSize match {\n",
    "            case 0 => None\n",
    "            case _ => front.next.get.element\n",
    "        }\n",
    "    }\n",
    "    \n",
    "    def peekLast: Option[E] = {\n",
    "        dequeSize match {\n",
    "            case 0 => None\n",
    "            case _ => rear.element\n",
    "        }\n",
    "    }\n",
    "    \n",
    "    def length: Int = dequeSize\n",
    "}"
   ]
  },
  {
   "cell_type": "markdown",
   "metadata": {},
   "source": [
    "<h2>Deque as queue, deque as stack</h2>"
   ]
  },
  {
   "cell_type": "markdown",
   "metadata": {},
   "source": [
    "Deque can perform all operation in the ADT in constant time. It means we can use it as queue, which is obvious, and as stack by restricting opeartion we use them to perform. However, since we have to use doubly-linked list to implement deque, the operation should be a bit slower when we use deque and it takes more space though the order of the time and space complexities are the same."
   ]
  }
 ],
 "metadata": {
  "kernelspec": {
   "display_name": "Scala",
   "language": "scala",
   "name": "scala"
  },
  "language_info": {
   "codemirror_mode": "text/x-scala",
   "file_extension": ".scala",
   "mimetype": "text/x-scala",
   "name": "scala211",
   "nbconvert_exporter": "script",
   "pygments_lexer": "scala",
   "version": "2.11.11"
  }
 },
 "nbformat": 4,
 "nbformat_minor": 2
}
