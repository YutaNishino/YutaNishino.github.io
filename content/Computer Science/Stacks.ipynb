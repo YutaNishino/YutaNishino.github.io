{
 "cells": [
  {
   "cell_type": "markdown",
   "metadata": {},
   "source": [
    "<h1>Stacks</h1>"
   ]
  },
  {
   "cell_type": "markdown",
   "metadata": {},
   "source": [
    "Stack is a data structure that can perform a part of the operation that lists can. We can take only the last element appended to the stack. The operation taking out the element is called \"pop\", and appending the element is called \"push\". It sounds like there is no use for stacks, however, stacks can perform those operations more efficiently than lists. This is another kind of tradeoff we saw for lists.\n",
    "Analogous to lists, stacks can be implemented as array-based and linked-stack. And the implementations are quite simple."
   ]
  },
  {
   "cell_type": "markdown",
   "metadata": {},
   "source": [
    "<h2>Stack ADT</h2>"
   ]
  },
  {
   "cell_type": "code",
   "execution_count": 1,
   "metadata": {},
   "outputs": [
    {
     "data": {
      "text/plain": [
       "defined \u001b[32mtrait\u001b[39m \u001b[36mStackADT\u001b[39m"
      ]
     },
     "execution_count": 1,
     "metadata": {},
     "output_type": "execute_result"
    }
   ],
   "source": [
    "trait StackADT[E] {\n",
    "    def clear: Unit\n",
    "    \n",
    "    def push(item: E): Unit\n",
    "    \n",
    "    def pop: E\n",
    "    \n",
    "    def peek: E\n",
    "    \n",
    "    def length: Int\n",
    "}"
   ]
  },
  {
   "cell_type": "markdown",
   "metadata": {},
   "source": [
    "<h2>Array-based stack</h2>"
   ]
  },
  {
   "cell_type": "code",
   "execution_count": 2,
   "metadata": {},
   "outputs": [
    {
     "data": {
      "text/plain": [
       "\u001b[32mimport \u001b[39m\u001b[36mscala.reflect.ClassTag\n",
       "\n",
       "\u001b[39m\n",
       "defined \u001b[32mclass\u001b[39m \u001b[36mAStack\u001b[39m"
      ]
     },
     "execution_count": 2,
     "metadata": {},
     "output_type": "execute_result"
    }
   ],
   "source": [
    "import scala.reflect.ClassTag\n",
    "\n",
    "class AStack[E: ClassTag](size: Int = 10) extends StackADT[E] {\n",
    "    private val maxSize: Int = size\n",
    "    \n",
    "    private var top: Int = 0\n",
    "    \n",
    "    private val listArray: Array[E] = new Array[E](maxSize)\n",
    "    \n",
    "    def clear: Unit = top = 0\n",
    "    \n",
    "    def push(item: E): Unit = {\n",
    "        assert (top != maxSize)\n",
    "        listArray(top) = item\n",
    "        top += 1\n",
    "    }\n",
    "    \n",
    "    def pop: E = {\n",
    "        assert (top != 0)\n",
    "        top -= 1\n",
    "        listArray(top)\n",
    "    }\n",
    "    \n",
    "    def peek: E = {\n",
    "        assert (top != 0)\n",
    "        listArray(top - 1)\n",
    "    }\n",
    "    \n",
    "    def length: Int = top\n",
    "}"
   ]
  },
  {
   "cell_type": "code",
   "execution_count": 3,
   "metadata": {},
   "outputs": [
    {
     "data": {
      "text/plain": [
       "defined \u001b[32mclass\u001b[39m \u001b[36mLink\u001b[39m\n",
       "defined \u001b[32mclass\u001b[39m \u001b[36mLStack\u001b[39m"
      ]
     },
     "execution_count": 3,
     "metadata": {},
     "output_type": "execute_result"
    }
   ],
   "source": [
    "// the same as Link for linked list\n",
    "class Link[E](item: Option[E], nextVal: Option[Link[E]]) {\n",
    "    private var linkElement: Option[E] = item\n",
    "    \n",
    "    private var nextLink: Option[Link[E]] = nextVal\n",
    "    \n",
    "    def next: Option[Link[E]] = nextLink\n",
    "    \n",
    "    def setNext(nextVal: Option[Link[E]]): Unit = nextLink = nextVal\n",
    "    \n",
    "    def element: Option[E] = linkElement\n",
    "    \n",
    "    def setElement(item: Option[E]): Unit = linkElement = item\n",
    "}\n",
    "\n",
    "class LStack[E](size: Int = 0) extends StackADT[E] {\n",
    "    // ignore the input size which is there for the consistency with AStack\n",
    "    private var top: Option[Link[E]] = None\n",
    "    \n",
    "    private var stackSize: Int = 0\n",
    "    \n",
    "    def clear: Unit = {\n",
    "        top = None\n",
    "        stackSize = 0\n",
    "    }\n",
    "    \n",
    "    def push(item: E): Unit = {\n",
    "        top = Some(new Link[E](Some(item), top))\n",
    "        stackSize += 1\n",
    "    }\n",
    "    \n",
    "    def pop: E = {\n",
    "        assert (top.isDefined)\n",
    "        val item: E = top.get.element.get\n",
    "        top = top.get.next\n",
    "        stackSize -= 1\n",
    "        item\n",
    "    }\n",
    "    \n",
    "    def peek: E = {\n",
    "        assert (top.isDefined)\n",
    "        top.get.element.get\n",
    "    }\n",
    "    \n",
    "    def length: Int = stackSize\n",
    "}"
   ]
  },
  {
   "cell_type": "markdown",
   "metadata": {},
   "source": [
    "<h2>Comparison of stack implementations</h2>"
   ]
  },
  {
   "cell_type": "markdown",
   "metadata": {},
   "source": [
    "As mentioned above, stacks are efficient for what they can do. As for time complexity, it is obvious from implementations that they do all the operation in $\\Theta(1)$ time. Space complexity is the same as the list for each implementation."
   ]
  },
  {
   "cell_type": "markdown",
   "metadata": {},
   "source": [
    "<h2>Imitating recursion</h2>"
   ]
  },
  {
   "cell_type": "markdown",
   "metadata": {},
   "source": [
    "Recursive call of functions in a program is managed using a stack. When a subroutine is called, the program push the necessary information onto the stack,  and when it returns, the information is popped from the stack. Therefore, we can replace the recursion with a iteration with stack.\n",
    "As an example, I will show an implementation of the algorithm to solve Tower of Hanoi problem with iteration and stack."
   ]
  },
  {
   "cell_type": "markdown",
   "metadata": {},
   "source": [
    "<h2>Tower of Hanoi</h2>"
   ]
  },
  {
   "cell_type": "code",
   "execution_count": 4,
   "metadata": {},
   "outputs": [
    {
     "name": "stdout",
     "output_type": "stream",
     "text": [
      "Move ring 1 from pole 1 to pole 2\n",
      "Move ring 2 from pole 1 to pole 3\n",
      "Move ring 1 from pole 2 to pole 3\n",
      "Move ring 3 from pole 1 to pole 2\n",
      "Move ring 1 from pole 3 to pole 1\n",
      "Move ring 2 from pole 3 to pole 2\n",
      "Move ring 1 from pole 1 to pole 2\n"
     ]
    },
    {
     "data": {
      "text/plain": [
       "defined \u001b[32mobject\u001b[39m \u001b[36mOperation\u001b[39m\n",
       "\u001b[32mimport \u001b[39m\u001b[36mOperation._\n",
       "\n",
       "\u001b[39m\n",
       "defined \u001b[32mclass\u001b[39m \u001b[36mTOH\u001b[39m\n",
       "defined \u001b[32mfunction\u001b[39m \u001b[36msolveTOH\u001b[39m"
      ]
     },
     "execution_count": 4,
     "metadata": {},
     "output_type": "execute_result"
    }
   ],
   "source": [
    "object Operation extends Enumeration {\n",
    "    type Operation = Value\n",
    "    val CALL, MOVE = Value\n",
    "}\n",
    "import Operation._\n",
    "\n",
    "case class TOH(operation: Operation, size: Int, start: Int, goal: Int, temp: Int) {\n",
    "    def this(size: Int, start: Int, goal: Int, temp: Int) = this(CALL, size, start, goal, temp)\n",
    "    \n",
    "    def this(size: Int, start: Int, goal: Int) = this(MOVE, size, start, goal, -1)\n",
    "    \n",
    "    def move() = println(s\"Move ring $size from pole $start to pole $goal\")\n",
    "}\n",
    "\n",
    "def solveTOH(height: Int): Unit = {\n",
    "    val stack = new AStack[TOH](2 * height + 1)\n",
    "    stack.push(new TOH(height, 1, 2, 3))\n",
    "    while(stack.length > 0) {\n",
    "        val item: TOH = stack.pop\n",
    "        item.operation match {\n",
    "            case MOVE => item.move\n",
    "            case CALL if item.size > 0 => {\n",
    "                stack.push(new TOH(item.size - 1, item.temp, item.goal, item.start))\n",
    "                stack.push(new TOH(item.size, item.start, item.goal))\n",
    "                stack.push(new TOH(item.size - 1, item.start, item.temp, item.goal))\n",
    "            }\n",
    "            case _ =>\n",
    "        }\n",
    "    }\n",
    "}\n",
    "\n",
    "solveTOH(3)"
   ]
  }
 ],
 "metadata": {
  "kernelspec": {
   "display_name": "Scala",
   "language": "scala",
   "name": "scala"
  },
  "language_info": {
   "codemirror_mode": "text/x-scala",
   "file_extension": ".scala",
   "mimetype": "text/x-scala",
   "name": "scala211",
   "nbconvert_exporter": "script",
   "pygments_lexer": "scala",
   "version": "2.11.11"
  }
 },
 "nbformat": 4,
 "nbformat_minor": 2
}
