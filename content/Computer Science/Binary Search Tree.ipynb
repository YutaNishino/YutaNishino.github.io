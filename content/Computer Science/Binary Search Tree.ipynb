{
 "cells": [
  {
   "cell_type": "markdown",
   "metadata": {},
   "source": [
    "<h1>Dictionary</h1>"
   ]
  },
  {
   "cell_type": "markdown",
   "metadata": {},
   "source": [
    "Search is surely the most frequenly performed action by computers. Let's consider a simple dictionary ADT that represent data structure that can do search and store information."
   ]
  },
  {
   "cell_type": "markdown",
   "metadata": {},
   "source": [
    "<h2>Dictionary ADT</h2>"
   ]
  },
  {
   "cell_type": "code",
   "execution_count": 1,
   "metadata": {},
   "outputs": [
    {
     "data": {
      "text/plain": [
       "defined \u001b[32mtrait\u001b[39m \u001b[36mDictionary\u001b[39m"
      ]
     },
     "execution_count": 1,
     "metadata": {},
     "output_type": "execute_result"
    }
   ],
   "source": [
    "trait Dictionary[Key, E] {\n",
    "    def clear(): Unit\n",
    "\n",
    "    def insert(k: Key, e: E): Unit\n",
    "\n",
    "    def remove(k: Key): Option[E]\n",
    "\n",
    "    def removeAny(): Option[E]\n",
    "\n",
    "    def find(k: Key): Option[E]\n",
    "\n",
    "    def size: Int\n",
    "}"
   ]
  },
  {
   "cell_type": "markdown",
   "metadata": {},
   "source": [
    "<h2>Binary search tree (BST) node ADT</h2>"
   ]
  },
  {
   "cell_type": "markdown",
   "metadata": {},
   "source": [
    "To implement dictionary, here I use binary search tree. First, I need to define node of the tree."
   ]
  },
  {
   "cell_type": "code",
   "execution_count": 2,
   "metadata": {},
   "outputs": [
    {
     "data": {
      "text/plain": [
       "defined \u001b[32mtrait\u001b[39m \u001b[36mBinNode\u001b[39m"
      ]
     },
     "execution_count": 2,
     "metadata": {},
     "output_type": "execute_result"
    }
   ],
   "source": [
    "trait BinNode[E] {\n",
    "    def element: E\n",
    "    \n",
    "    def setElement(newElement: E): Unit\n",
    "    \n",
    "    def left: Option[BinNode[E]]\n",
    "    \n",
    "    def right: Option[BinNode[E]]\n",
    "    \n",
    "    def isLeaf: Boolean\n",
    "}"
   ]
  },
  {
   "cell_type": "markdown",
   "metadata": {},
   "source": [
    "<h2>BST node implementation</h2>"
   ]
  },
  {
   "cell_type": "code",
   "execution_count": 3,
   "metadata": {},
   "outputs": [
    {
     "data": {
      "text/plain": [
       "defined \u001b[32mclass\u001b[39m \u001b[36mBSTNode\u001b[39m"
      ]
     },
     "execution_count": 3,
     "metadata": {},
     "output_type": "execute_result"
    }
   ],
   "source": [
    "class BSTNode[Key, E](private var k: Key, private var e: E,\n",
    "                      private var l: Option[BSTNode[Key, E]] = None,\n",
    "                      private var r: Option[BSTNode[Key, E]] = None) extends BinNode[E] {\n",
    "    \n",
    "    def key: Key = k\n",
    "    \n",
    "    def setKey(newKey: Key): Unit = k = newKey\n",
    "    \n",
    "    def element: E = e\n",
    "    \n",
    "    def setElement(newElement: E): Unit = e = newElement\n",
    "    \n",
    "    def left: Option[BSTNode[Key, E]] = l\n",
    "\n",
    "    def setLeft(newLeft: Option[BSTNode[Key, E]]): Unit = l = newLeft\n",
    "    \n",
    "    def right: Option[BSTNode[Key, E]] = r\n",
    "    \n",
    "    def setRight(newRight: Option[BSTNode[Key, E]]): Unit = r = newRight\n",
    "    \n",
    "    def isLeaf: Boolean = left.isEmpty && right.isEmpty\n",
    "}"
   ]
  },
  {
   "cell_type": "markdown",
   "metadata": {},
   "source": [
    "<h2>BST implementation</h2>"
   ]
  },
  {
   "cell_type": "code",
   "execution_count": 4,
   "metadata": {},
   "outputs": [
    {
     "data": {
      "text/plain": [
       "defined \u001b[32mclass\u001b[39m \u001b[36mBST\u001b[39m"
      ]
     },
     "execution_count": 4,
     "metadata": {},
     "output_type": "execute_result"
    }
   ],
   "source": [
    "class BST[Key, E](implicit val ordering: Ordering[Key])\n",
    "    extends Dictionary[Key, E] {\n",
    "    var root: Option[BSTNode[Key, E]] = None\n",
    "    var nodeCount = 0\n",
    "\n",
    "    def clear(): Unit = {\n",
    "        root = None\n",
    "        nodeCount = 0\n",
    "    }\n",
    "\n",
    "    def insert(key: Key, element: E): Unit = {\n",
    "        root = insertRec(root, key, element)\n",
    "        nodeCount += 1\n",
    "    }\n",
    "\n",
    "    def remove(key: Key): Option[E] = {\n",
    "        val temp = findRec(root, key)\n",
    "        temp match {\n",
    "            case Some(_) =>\n",
    "                root = removeRec(root, key)\n",
    "                nodeCount -= 1\n",
    "            case None =>\n",
    "        }\n",
    "        temp\n",
    "    }\n",
    "\n",
    "    def removeAny(): Option[E] = {\n",
    "        if (root.isEmpty) return None\n",
    "        val temp = root.get.element\n",
    "        root = removeRec(root, root.get.key)\n",
    "        nodeCount -= 1\n",
    "        Some(temp)\n",
    "    }\n",
    "\n",
    "    def find(key: Key): Option[E] = findRec(root, key)\n",
    "\n",
    "    def size: Int = nodeCount\n",
    "\n",
    "    def findRec(root: Option[BSTNode[Key, E]],\n",
    "                key: Key): Option[E] = {\n",
    "        if (root.isEmpty) return None\n",
    "        root.get.key match {\n",
    "            case rootKey if ordering.compare(\n",
    "                rootKey, key) == 0 => Some(root.get.element)\n",
    "            case rootKey if ordering.compare(\n",
    "                rootKey, key) > 0 => findRec(root.get.left, key)\n",
    "            case _ => findRec(root.get.right, key)\n",
    "        }\n",
    "    }\n",
    "\n",
    "    def insertRec(root: Option[BSTNode[Key, E]],\n",
    "                  key: Key, element: E): Option[BSTNode[Key, E]] = {\n",
    "        if (root.isEmpty) return Some(new BSTNode[Key, E](key, element))\n",
    "        root.get match {\n",
    "        case node if\n",
    "            ordering.compare(root.get.key, key) > 0 => node.setLeft(insertRec(node.left, key, element))\n",
    "        case node => node.setRight(insertRec(node.right, key, element))\n",
    "        }\n",
    "    root\n",
    "    }\n",
    "\n",
    "    def removeRec(root: Option[BSTNode[Key, E]], key: Key): Option[BSTNode[Key, E]] = {\n",
    "        if (root.isEmpty) return None\n",
    "        root.get.key match {\n",
    "            case rootKey if ordering.compare(\n",
    "                rootKey, key) > 0 => root.get.setLeft(removeRec(root.get.left, key))\n",
    "            case rootKey if ordering.compare(\n",
    "                rootKey, key) < 0 => root.get.setRight(removeRec(root.get.right, key))\n",
    "            case _ =>\n",
    "                if (root.get.left.isEmpty) return root.get.right\n",
    "                if (root.get.right.isEmpty) return root.get.left\n",
    "                val temp: BSTNode[Key, E] = getMin(root.get.right)\n",
    "                root.get.setElement(temp.element)\n",
    "                root.get.setKey(temp.key)\n",
    "                root.get.setRight(deleteMin(root.get.right))\n",
    "        }\n",
    "        root\n",
    "    }\n",
    "\n",
    "    // called after findRec find the key so that there must be the key\n",
    "    def getMin(root: Option[BSTNode[Key, E]]): BSTNode[Key, E] = {\n",
    "        root.get.left match {\n",
    "            case None => root.get\n",
    "            case Some(node) => getMin(root.get.left)\n",
    "        }\n",
    "    }\n",
    "\n",
    "    // called after findRec find the key so that there must be the key\n",
    "    def deleteMin(root: Option[BSTNode[Key, E]]): Option[BSTNode[Key, E]] = {\n",
    "        root.get.left match {\n",
    "        case None => root.get.right\n",
    "        case Some(node) => deleteMin(root.get.left)\n",
    "        }\n",
    "    }\n",
    "}"
   ]
  },
  {
   "cell_type": "markdown",
   "metadata": {},
   "source": [
    "<h2>Advantages and disadvantages of BST</h2>"
   ]
  },
  {
   "cell_type": "markdown",
   "metadata": {},
   "source": [
    "Searching can be done with the data structures such as (un)sorted array, hashtable or BST.\n",
    "BST is fast compared to arrays to perform insert of find element. And only BST can handle range query that one want to find element within a certain range.\n",
    "\n",
    "BST become slow when the tree is unbalanced and takes $\\Theta(n^2)$ time to perform insert and find in the worst case. Fortunately, it can be augmented so that it always maintain the balanced property. The data structure is called AVL tree."
   ]
  },
  {
   "cell_type": "code",
   "execution_count": null,
   "metadata": {},
   "outputs": [],
   "source": []
  }
 ],
 "metadata": {
  "kernelspec": {
   "display_name": "Scala",
   "language": "scala",
   "name": "scala"
  },
  "language_info": {
   "codemirror_mode": "text/x-scala",
   "file_extension": ".scala",
   "mimetype": "text/x-scala",
   "name": "scala211",
   "nbconvert_exporter": "script",
   "pygments_lexer": "scala",
   "version": "2.11.11"
  }
 },
 "nbformat": 4,
 "nbformat_minor": 2
}
