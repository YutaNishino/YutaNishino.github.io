{
 "cells": [
  {
   "cell_type": "markdown",
   "metadata": {},
   "source": [
    "<h1>Sorting based on partition of an array</h1>"
   ]
  },
  {
   "cell_type": "markdown",
   "metadata": {},
   "source": [
    "Sorting algorithms more efficient than the one by transpositions exploit the divide and conquer principle."
   ]
  },
  {
   "cell_type": "markdown",
   "metadata": {},
   "source": [
    "<h2>Shellsort</h2>"
   ]
  },
  {
   "cell_type": "markdown",
   "metadata": {},
   "source": [
    "Shellsort utilizes the near best cases behaviour of insertion sort. It partition the array and then sort the subarray using insertion sort. Then it make subarrays with smaller gap, meaning fewer and longer subarray."
   ]
  },
  {
   "cell_type": "code",
   "execution_count": 1,
   "metadata": {},
   "outputs": [
    {
     "data": {
      "text/plain": [
       "defined \u001b[32mobject\u001b[39m \u001b[36mShellSort\u001b[39m"
      ]
     },
     "execution_count": 1,
     "metadata": {},
     "output_type": "execute_result"
    }
   ],
   "source": [
    "object ShellSort {\n",
    "  def sort[T](array: Array[T])(implicit ordering: Ordering[T]): Unit = {\n",
    "    val gaps = Array(701, 301, 132, 57, 23, 10, 4, 1)\n",
    "    for (gap <- gaps)\n",
    "      for (i <- gap until array.length) {\n",
    "        val temp = array(i)\n",
    "        var j = i\n",
    "        while (j >= gap && ordering.compare(array(j - gap), temp) > 0) {\n",
    "          array(j) = array(j - gap)\n",
    "          j -= gap\n",
    "        }\n",
    "        array(j) = temp\n",
    "      }\n",
    "  }\n",
    "}"
   ]
  },
  {
   "cell_type": "markdown",
   "metadata": {},
   "source": [
    "<h2>Mergesort</h2>"
   ]
  },
  {
   "cell_type": "markdown",
   "metadata": {},
   "source": [
    "Mergesort consists of two steps. First is to recursively partition the array into subarrays until subarray is the one of length 1, then pick from smaller value to larger one to merge them."
   ]
  },
  {
   "cell_type": "code",
   "execution_count": 2,
   "metadata": {},
   "outputs": [
    {
     "data": {
      "text/plain": [
       "defined \u001b[32mobject\u001b[39m \u001b[36mMergeSort\u001b[39m"
      ]
     },
     "execution_count": 2,
     "metadata": {},
     "output_type": "execute_result"
    }
   ],
   "source": [
    "object MergeSort {\n",
    "  def sort[T](array: Array[T])(implicit ordering: Ordering[T]): Unit = {\n",
    "    val copy = array.clone\n",
    "    mergesortRec(copy, array, 0, array.length)\n",
    "\n",
    "    def mergesortRec(array: Array[T], result: Array[T],\n",
    "                     start: Int, end: Int): Unit = {\n",
    "      if (end - start < 2) return\n",
    "      if (end - start == 2)\n",
    "        if (ordering.compare(result(start), result(start + 1)) > 0) {\n",
    "          val temp = result(start)\n",
    "          result(start) = result(start + 1)\n",
    "          result(start + 1) = temp\n",
    "          return\n",
    "        }\n",
    "\n",
    "      val mid = (start + end) / 2\n",
    "      mergesortRec(result, array, start, mid)\n",
    "      mergesortRec(result, array, mid, end)\n",
    "\n",
    "      // merge\n",
    "      var i = start\n",
    "      var j = mid\n",
    "      var index = start\n",
    "      while(index < end) {\n",
    "        if (j >= end ||\n",
    "          (i < mid && ordering.compare(array(i), array(j)) < 0)) {\n",
    "          result(index) = array(i)\n",
    "          i += 1\n",
    "        }\n",
    "        else {\n",
    "          result(index) = array(j)\n",
    "          j += 1\n",
    "        }\n",
    "        index += 1\n",
    "      }\n",
    "    }\n",
    "  }\n",
    "}"
   ]
  },
  {
   "cell_type": "markdown",
   "metadata": {},
   "source": [
    "<h2>Quicksort</h2>"
   ]
  },
  {
   "cell_type": "markdown",
   "metadata": {},
   "source": [
    "Quicksort is the fastest known general-purpose in-memory sorting algorithm in the average case when properly implemented. It select the pivot value from the array, divide it into two subarrays so that one subarray contains only the smaller values than the pivot, another  only the larger or equal values. Then it recursively sort the subarrays, then concatenate them."
   ]
  },
  {
   "cell_type": "code",
   "execution_count": 3,
   "metadata": {},
   "outputs": [
    {
     "data": {
      "text/plain": [
       "defined \u001b[32mobject\u001b[39m \u001b[36mQuickSort\u001b[39m"
      ]
     },
     "execution_count": 3,
     "metadata": {},
     "output_type": "execute_result"
    }
   ],
   "source": [
    "object QuickSort {\n",
    "  def sort[T](array: Array[T])(implicit ordering: Ordering[T]): Unit = {\n",
    "    qSort(array, 0, array.length - 1)\n",
    "\n",
    "    def qSort(array: Array[T], start: Int, end: Int): Unit = {\n",
    "      val pivotIndex = findPivot(array, start, end)\n",
    "      val pivotValue = array(pivotIndex)\n",
    "      array(pivotIndex) = array(end)\n",
    "      array(end) = pivotValue\n",
    "      val rightStart = partition(array, start, end - 1, pivotValue)\n",
    "      array(end) = array(rightStart)\n",
    "      array(rightStart) = pivotValue\n",
    "      if (rightStart - start > 1) qSort(array, start, rightStart - 1)\n",
    "      if (end - rightStart > 1) qSort(array, rightStart + 1, end)\n",
    "    }\n",
    "\n",
    "    def partition(array: Array[T], s: Int, e: Int, pivot: T): Int = {\n",
    "      var start = s\n",
    "      var end = e\n",
    "      do {\n",
    "        while (ordering.compare(array(start), pivot) < 0) start += 1\n",
    "        while (end != 0 && ordering.compare(array(end), pivot) > 0) end -= 1\n",
    "        val temp = array(start)\n",
    "        array(start) = array(end)\n",
    "        array(end) = temp\n",
    "      } while (start < end)\n",
    "      val temp = array(start)\n",
    "      array(start) = array(end)\n",
    "      array(end) = temp\n",
    "      start\n",
    "    }\n",
    "\n",
    "    def findPivot(array: Array[T], start: Int, end: Int): Int = {\n",
    "      if (end - start >= 2) {\n",
    "        val mid = (start + end) / 2\n",
    "        if (ordering.compare(array(start), array(mid)) < 0) {\n",
    "          if (ordering.compare(array(start), array(end)) >= 0) return start\n",
    "          else if (ordering.compare(array(mid), array(end)) < 0) return mid\n",
    "        }\n",
    "        else {\n",
    "          if (ordering.compare(array(start), array(end)) < 0) return start\n",
    "          else if (ordering.compare(array(mid), array(end)) >= 0) return mid\n",
    "        }\n",
    "        end\n",
    "      }\n",
    "      // only two elements\n",
    "      else start\n",
    "    }\n",
    "  }\n",
    "}"
   ]
  },
  {
   "cell_type": "markdown",
   "metadata": {},
   "source": [
    "<h2>Comparision of these algorithms</h2>"
   ]
  },
  {
   "cell_type": "markdown",
   "metadata": {},
   "source": [
    "Since these algorithms are complex compared to transposition sort, analyzing time complexity of them is also not so simple.\n",
    "\n",
    "Mergesort is the easiest of the three to analyze, and it runs in $\\Theta(n)$ time in the best, average, worst cases.\n",
    "\n",
    "The behaviour of the shellsort heavily depends on how the gap sequence is set. The one used above is called Ciura's sequence and it has the best known performance. The time complexity in the best cases is $\\Theta(n)$, however, average and worst case complexity are not known.\n",
    "\n",
    "The time complexity of quicksort is $\\Theta(n\\log n)$ for best and average cases. Worst case occurs when pivot is always the lowest or highest value, and time complexity is $\\Theta(n^2)$."
   ]
  },
  {
   "cell_type": "code",
   "execution_count": null,
   "metadata": {},
   "outputs": [],
   "source": []
  }
 ],
 "metadata": {
  "kernelspec": {
   "display_name": "Scala",
   "language": "scala",
   "name": "scala"
  },
  "language_info": {
   "codemirror_mode": "text/x-scala",
   "file_extension": ".scala",
   "mimetype": "text/x-scala",
   "name": "scala211",
   "nbconvert_exporter": "script",
   "pygments_lexer": "scala",
   "version": "2.11.11"
  }
 },
 "nbformat": 4,
 "nbformat_minor": 2
}
