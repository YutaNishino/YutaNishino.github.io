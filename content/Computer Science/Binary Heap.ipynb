{
 "cells": [
  {
   "cell_type": "markdown",
   "metadata": {},
   "source": [
    "<h1>Heap</h1>"
   ]
  },
  {
   "cell_type": "markdown",
   "metadata": {},
   "source": [
    "Heap is complete, partially ordered binary tree. Complete means every node at a depth of the tree has subtree that each height differs at most by 1. Partially ordered means that the a element stored in the tree is less than or equal only to its ancestors and greater than or equal only to its  descendants, or the other way around.\n",
    "\n",
    "It is a natural implementation of priority queue which is efficient for the operation that one takes the element with highest priority from the collection."
   ]
  },
  {
   "cell_type": "markdown",
   "metadata": {},
   "source": [
    "<h2>Heap implementation</h2>"
   ]
  },
  {
   "cell_type": "code",
   "execution_count": 1,
   "metadata": {
    "scrolled": true
   },
   "outputs": [
    {
     "data": {
      "text/plain": [
       "\u001b[32mimport \u001b[39m\u001b[36mscala.reflect.ClassTag\n",
       "\n",
       "\u001b[39m\n",
       "defined \u001b[32mclass\u001b[39m \u001b[36mBinMaxHeap\u001b[39m"
      ]
     },
     "execution_count": 1,
     "metadata": {},
     "output_type": "execute_result"
    }
   ],
   "source": [
    "import scala.reflect.ClassTag\n",
    "\n",
    "class BinMaxHeap[T: ClassTag](val heap: Array[T])\n",
    "                             (implicit val ordering: Ordering[T]) {\n",
    "  private val maxSize = heap.length\n",
    "  private var size = maxSize\n",
    "  buildHeap()\n",
    "\n",
    "  def heapSize: Int = size\n",
    "\n",
    "  def isLeaf(pos: Int): Boolean = (pos >= size / 2) && (pos < size)\n",
    "\n",
    "  def leftChild(pos: Int): Option[Int] = {\n",
    "    pos match {\n",
    "      case _ if pos >= size / 2 => None\n",
    "      case _ => Some(2 * pos + 1)\n",
    "    }\n",
    "  }\n",
    "\n",
    "  def rightChild(pos: Int): Option[Int] = {\n",
    "    pos match {\n",
    "      case _ if pos < (size - 1) / 2 => None\n",
    "      case _ => Some(2 * pos + 2)\n",
    "    }\n",
    "  }\n",
    "\n",
    "  def parent(pos: Int): Option[Int] = {\n",
    "    pos match {\n",
    "      case _ if pos <= 0 || pos >= size => None\n",
    "      case _ => Some((pos - 1) / 2)\n",
    "    }\n",
    "  }\n",
    "\n",
    "  def insert(element: T): Unit = {\n",
    "    if (size >= maxSize) return\n",
    "    var curr = size\n",
    "    size += 1\n",
    "    heap(curr) = element\n",
    "    while(curr != 0 && ordering.compare(heap(curr), heap(parent(curr).get)) > 0) {\n",
    "      val parentCurr = parent(curr).get\n",
    "      val temp = heap(parentCurr)\n",
    "      heap(parentCurr) = heap(curr)\n",
    "      heap(curr) = temp\n",
    "      curr = parentCurr\n",
    "    }\n",
    "  }\n",
    "\n",
    "  def siftDown(pos: Int): Unit = {\n",
    "    if (pos < 0 || pos >= size) return\n",
    "    var curr = pos\n",
    "    while(!isLeaf(curr)) {\n",
    "      // if it is not a leaf, then it must have left child\n",
    "      var left = leftChild(curr).get\n",
    "      if (left < size - 1 && ordering.compare(heap(left), heap(left + 1)) < 0)\n",
    "        left += 1\n",
    "      if (ordering.compare(heap(curr), heap(left)) >= 0) return\n",
    "      val temp = heap(curr)\n",
    "      heap(curr) = heap(left)\n",
    "      heap(left) = temp\n",
    "      curr = left\n",
    "    }\n",
    "  }\n",
    "\n",
    "  def buildHeap(): Unit = {\n",
    "    for(i <- (size - 1)/ 2 to 0 by -1) siftDown(i)\n",
    "  }\n",
    "\n",
    "  def removeMax(): Option[T] = {\n",
    "    size match {\n",
    "      case 0 => None\n",
    "      case _ =>\n",
    "        size -= 1\n",
    "        val maxValue = heap(0)\n",
    "        heap(0) = heap(size)\n",
    "        if (size != 0) siftDown(0)\n",
    "        Some(maxValue)\n",
    "    }\n",
    "  }\n",
    "\n",
    "  def remove(pos: Int): Option[T] = {\n",
    "    pos match {\n",
    "      case _ if pos < 0 || pos >= size => None\n",
    "      case _ =>\n",
    "        size -= 1\n",
    "        val value = heap(pos)\n",
    "        heap(pos) = heap(size)\n",
    "        var curr = pos\n",
    "        while (curr > 0 && ordering.compare(heap(curr), heap(parent(curr).get)) > 0) {\n",
    "          val temp = heap(curr)\n",
    "          heap(curr) = heap(parent(curr).get)\n",
    "          heap(parent(curr).get) = temp\n",
    "          curr = parent(curr).get\n",
    "        }\n",
    "        if (size != 0) siftDown(curr)\n",
    "        Some(value)\n",
    "    }\n",
    "  }\n",
    "}"
   ]
  },
  {
   "cell_type": "markdown",
   "metadata": {},
   "source": [
    "<h2>Analysis of the implementation</h2>"
   ]
  },
  {
   "cell_type": "markdown",
   "metadata": {},
   "source": [
    "The completeness and order must be preserved when an element is inserted and when an element is removed.\n",
    "This means that implementation of inserting and removing elements are not straightforward and need extra opration.\n",
    "\n",
    "The implementation above realizes them by sift down and sift \"up\". They move the element smaller than its children down the tree, and bigger up the tree.\n",
    "\n",
    "Since the heap is always the complete binary tree, those operation takes $\\Theta(\\log n)$ time in the worst cases.\n",
    "It leads to the fact that inserting and removing an element also take $\\Theta(\\log n)$ time. For buildHeap, it takes $\\Theta(n)$ time (the sum of the series has a closed form)."
   ]
  },
  {
   "cell_type": "markdown",
   "metadata": {},
   "source": [
    "<h2>Using heap as priority queue and for sorting</h2>"
   ]
  },
  {
   "cell_type": "markdown",
   "metadata": {},
   "source": [
    "With methods buildHeap and removeMax, heap can be used for sorting collections and is is called heapsort.\n",
    "\n",
    "Heap is an implementation of priority queue, however, there are more efficient data structures for it."
   ]
  },
  {
   "cell_type": "code",
   "execution_count": null,
   "metadata": {},
   "outputs": [],
   "source": []
  }
 ],
 "metadata": {
  "kernelspec": {
   "display_name": "Scala",
   "language": "scala",
   "name": "scala"
  },
  "language_info": {
   "codemirror_mode": "text/x-scala",
   "file_extension": ".scala",
   "mimetype": "text/x-scala",
   "name": "scala211",
   "nbconvert_exporter": "script",
   "pygments_lexer": "scala",
   "version": "2.11.11"
  }
 },
 "nbformat": 4,
 "nbformat_minor": 2
}
