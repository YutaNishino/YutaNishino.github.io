{
 "cells": [
  {
   "cell_type": "markdown",
   "metadata": {},
   "source": [
    "<h1>Searching (un)sorted array</h1>"
   ]
  },
  {
   "cell_type": "markdown",
   "metadata": {},
   "source": [
    "<h2>Sequential search</h2>"
   ]
  },
  {
   "cell_type": "markdown",
   "metadata": {},
   "source": [
    "When searching unsorted array for some element, only what we can do is sequential search, which we take elements in the array one by one and check if it's the one we are searching for."
   ]
  },
  {
   "cell_type": "code",
   "execution_count": null,
   "metadata": {},
   "outputs": [],
   "source": [
    "object SequentialSearch {\n",
    "  def search[T](array: Array[T], target: T)(implicit ordering: Ordering[T]): Boolean = {\n",
    "    for (element <- array) {\n",
    "      if (ordering.compare(target, element) == 0) return true\n",
    "    }\n",
    "    false\n",
    "  }\n",
    "}"
   ]
  },
  {
   "cell_type": "markdown",
   "metadata": {},
   "source": [
    "<h2>Binary search</h2>"
   ]
  },
  {
   "cell_type": "markdown",
   "metadata": {},
   "source": [
    "When the array containing elements is sorted, we can do much more efficient search than sequential search. Binary search takes the middle element in the array, and if it is bigger than the element we want to find, then search the former half of the array. If it is smaller, then search the latter half."
   ]
  },
  {
   "cell_type": "code",
   "execution_count": null,
   "metadata": {},
   "outputs": [],
   "source": [
    "object BinarySearch {\n",
    "  // We assume input array is sorted!\n",
    "  def search[T](array: Array[T], target: T)(implicit ordering: Ordering[T]): Boolean = {\n",
    "    var low = 0\n",
    "    var high = array.length - 1\n",
    "    while(low <= high) {\n",
    "      val mid = (low + high) / 2\n",
    "      val comp = ordering.compare(target, array(mid))\n",
    "      if (comp < 0) high = mid - 1\n",
    "      else if (comp > 0) low = mid + 1\n",
    "      else {\n",
    "        return true\n",
    "      }\n",
    "    }\n",
    "    false\n",
    "  }\n",
    "}"
   ]
  },
  {
   "cell_type": "markdown",
   "metadata": {},
   "source": [
    "<h1>Peak finding problem</h1>"
   ]
  },
  {
   "cell_type": "markdown",
   "metadata": {},
   "source": [
    "<h2>1-D</h2>"
   ]
  },
  {
   "cell_type": "markdown",
   "metadata": {},
   "source": [
    "Binary search not only be applied to searching sorted array. Here we consider how to find the i-th element in an array such that $a_{i-1} \\leq a_i$ and $a_i \\geq a_{i+1}$"
   ]
  },
  {
   "cell_type": "code",
   "execution_count": null,
   "metadata": {},
   "outputs": [],
   "source": [
    "object OneDPeak {\n",
    "  def searchPeak[T](array: Array[T])(implicit ordering: Ordering[T]): Int = {\n",
    "    var low = 0\n",
    "    var high = array.length - 1\n",
    "    while(low <= high - 2) {\n",
    "      val mid = (low + high) / 2\n",
    "      val compLeft = ordering.compare(array(mid), array(mid - 1))\n",
    "      val compRight = ordering.compare(array(mid), array(mid + 1))\n",
    "      if (compLeft < 0) high = mid - 1\n",
    "      else if (compRight < 0) low = mid + 1\n",
    "      else return mid\n",
    "    }\n",
    "\n",
    "    // If the program reaches here, elements to be searched are only low and high\n",
    "    if (ordering.compare(array(low), array(high)) > 0) low\n",
    "    else high\n",
    "  }\n",
    "}"
   ]
  },
  {
   "cell_type": "markdown",
   "metadata": {},
   "source": [
    "2-D"
   ]
  },
  {
   "cell_type": "markdown",
   "metadata": {},
   "source": [
    "2-D version of the algorithm is not a straightforward binary search. It have to take following steps.\n",
    "\n",
    "1. Pick the middle column.\n",
    "2. Find the global maximum element in the column.\n",
    "3. If it is the peak, end search.\n",
    "4. If not, limit the search range to the left half if the element to the left is bigger, or limit to the right half it the element to the right is smaller.\n",
    "5. return to 1.\n",
    "\n",
    "The correctness of the algorithm can be shown with proof by contradiction.\n",
    "\n",
    "Let the width and the height of the 2-D array be m and n. Since step 2 takes $\\Theta(n)$ time and the steps repeat $\\Theta(\\log m)$ time in the worst cases, the time complexity of the algorithm for the worst cases is $\\Theta(n\\log m)$."
   ]
  },
  {
   "cell_type": "code",
   "execution_count": null,
   "metadata": {},
   "outputs": [],
   "source": [
    "object TwoDPeak {\n",
    "  def searchPeak[T](matrix: Array[Array[T]])(implicit ordering: Ordering[T]): (Int, Int) = {\n",
    "    var low = 0\n",
    "    var high = matrix.length - 1\n",
    "    while (low <= high - 2) {\n",
    "      val mid = (low + high) / 2\n",
    "      val array = matrix(mid)\n",
    "      val maxIndex = array.indexOf(array.max)\n",
    "      val compAbove = ordering.compare(array(maxIndex), matrix(mid - 1)(maxIndex))\n",
    "      val compBelow = ordering.compare(array(maxIndex), matrix(mid + 1)(maxIndex))\n",
    "      if (compAbove < 0) high = mid - 1\n",
    "      else if (compBelow < 0) low = mid + 1\n",
    "      else return (mid, maxIndex)\n",
    "    }\n",
    "\n",
    "    if (low == high) (low, matrix(low).indexOf(matrix(low).max))\n",
    "    else {\n",
    "      val maxLow = matrix(low).indexOf(matrix(low).max)\n",
    "      if (ordering.compare(matrix(low)(maxLow), matrix(high)(maxLow)) >= 0)\n",
    "        return (low, maxLow)\n",
    "      (high, matrix(high).indexOf(matrix(high).max))\n",
    "    }\n",
    "  }\n",
    "}"
   ]
  }
 ],
 "metadata": {
  "kernelspec": {
   "display_name": "Scala",
   "language": "scala",
   "name": "scala"
  },
  "language_info": {
   "codemirror_mode": "text/x-scala",
   "file_extension": ".scala",
   "mimetype": "text/x-scala",
   "name": "scala211",
   "nbconvert_exporter": "script",
   "pygments_lexer": "scala",
   "version": "2.11.11"
  }
 },
 "nbformat": 4,
 "nbformat_minor": 2
}
