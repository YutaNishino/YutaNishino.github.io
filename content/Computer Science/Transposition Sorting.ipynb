{
 "cells": [
  {
   "cell_type": "markdown",
   "metadata": {},
   "source": [
    "<h1>Sorting by transposition</h1>"
   ]
  },
  {
   "cell_type": "markdown",
   "metadata": {},
   "source": [
    "The simplest sorting algorithms use transposition to sort an array of data. Three major algorithms in this type are insertion sort, bubble sort, selection sort. I also write about heapsort that is an algothm that apply the principle behind the selection sort more efficiently. I will show sample implementations of these algorithms and then analyze the performances."
   ]
  },
  {
   "cell_type": "markdown",
   "metadata": {},
   "source": [
    "<h2>Insertion sort</h2>"
   ]
  },
  {
   "cell_type": "markdown",
   "metadata": {},
   "source": [
    "An intuitive way for humans to sort things is to pick two things and put them in order, and then pick next to put it in the correct position, and so on. This also can be done on the computer, and the algorithm is called insertion sort."
   ]
  },
  {
   "cell_type": "code",
   "execution_count": 1,
   "metadata": {},
   "outputs": [
    {
     "data": {
      "text/plain": [
       "defined \u001b[32mobject\u001b[39m \u001b[36mInsertionSort\u001b[39m"
      ]
     },
     "execution_count": 1,
     "metadata": {},
     "output_type": "execute_result"
    }
   ],
   "source": [
    "object InsertionSort {\n",
    "  def sort[T](array: Array[T])(implicit ordering: Ordering[T]): Unit = {\n",
    "    for (i <- 1 until array.length) {\n",
    "      var j = i - 1\n",
    "      val value = array(j + 1)\n",
    "      while (j >= 0 && ordering.compare(value, array(j)) < 0) {\n",
    "        array(j + 1) = array(j)\n",
    "        j -= 1\n",
    "      }\n",
    "      array(j + 1) = value\n",
    "    }\n",
    "  }\n",
    "}"
   ]
  },
  {
   "cell_type": "markdown",
   "metadata": {},
   "source": [
    "<h2>Bubble Sort</h2>"
   ]
  },
  {
   "cell_type": "markdown",
   "metadata": {},
   "source": [
    "This algorithm have no intuitive interpretation and is the slowest of all the major sorting algorithms. However, it is important because the principle can be refined to be more effcient."
   ]
  },
  {
   "cell_type": "code",
   "execution_count": 2,
   "metadata": {},
   "outputs": [
    {
     "data": {
      "text/plain": [
       "defined \u001b[32mobject\u001b[39m \u001b[36mBubbleSort\u001b[39m"
      ]
     },
     "execution_count": 2,
     "metadata": {},
     "output_type": "execute_result"
    }
   ],
   "source": [
    "object BubbleSort {\n",
    "  def sort[T](array: Array[T])(implicit ordering: Ordering[T]): Unit = {\n",
    "    for (i <- 0 to array.length - 2)\n",
    "      for (j <- array.length - 1 until i by -1)\n",
    "        if (ordering.compare(array(j), array(j - 1)) < 0) {\n",
    "          val temp = array(j - 1)\n",
    "          array(j - 1) = array(j)\n",
    "          array(j) = temp\n",
    "        }\n",
    "  }\n",
    "}"
   ]
  },
  {
   "cell_type": "markdown",
   "metadata": {},
   "source": [
    "<h2>Selection Sort</h2>"
   ]
  },
  {
   "cell_type": "markdown",
   "metadata": {},
   "source": [
    "Bubble sort is slow particularly because it has to repeatedly swap adjacent element from bottom to the top to put the (next) smallest element into the correct position. Instead, selection sort remembers the position of the smallest element when it searches through the array, and swap element only one time for each next smallest element."
   ]
  },
  {
   "cell_type": "code",
   "execution_count": 3,
   "metadata": {},
   "outputs": [
    {
     "data": {
      "text/plain": [
       "defined \u001b[32mobject\u001b[39m \u001b[36mSelectionSort\u001b[39m"
      ]
     },
     "execution_count": 3,
     "metadata": {},
     "output_type": "execute_result"
    }
   ],
   "source": [
    "object SelectionSort {\n",
    "  def sort[T](array: Array[T])(implicit ordering: Ordering[T]): Unit = {\n",
    "    for (i <- 0 to array.length - 2) {\n",
    "      var minIndex = i\n",
    "      for (j <- array.length - 1 until i by -1)\n",
    "        if (ordering.compare(array(j), array(minIndex)) < 0) minIndex = j\n",
    "      val temp = array(minIndex)\n",
    "      array(minIndex) = array(i)\n",
    "      array(i) = temp\n",
    "    }\n",
    "  }\n",
    "}"
   ]
  },
  {
   "cell_type": "markdown",
   "metadata": {},
   "source": [
    "<h2>Heapsort</h2>"
   ]
  },
  {
   "cell_type": "markdown",
   "metadata": {},
   "source": [
    "Like selection sort, heapsort find the maximum value in the array. However, using the data structure called heap, it doesn't need to do $n-i$ comparison to find ith largest element."
   ]
  },
  {
   "cell_type": "code",
   "execution_count": 4,
   "metadata": {},
   "outputs": [
    {
     "data": {
      "text/plain": [
       "defined \u001b[32mobject\u001b[39m \u001b[36mHeapSort\u001b[39m"
      ]
     },
     "execution_count": 4,
     "metadata": {},
     "output_type": "execute_result"
    }
   ],
   "source": [
    "object HeapSort {\n",
    "  def sort[T](array: Array[T])(implicit ordering: Ordering[T]): Unit = {\n",
    "    buildHeap(array)\n",
    "    for (i <- array.length - 1 to 1 by -1) {\n",
    "      val temp = array(0)\n",
    "      array(0) = array(i)\n",
    "      array(i) = temp\n",
    "      heapify(array, 0, i)\n",
    "    }\n",
    "  }\n",
    "\n",
    "  def buildHeap[T](array: Array[T])(implicit ordering: Ordering[T]): Unit = {\n",
    "    for (i <- array.length / 2 - 1 to 0 by -1)\n",
    "      heapify(array, i, array.length)\n",
    "  }\n",
    "\n",
    "  def heapify[T](array: Array[T], index: Int, maxIndex: Int)\n",
    "                (implicit ordering: Ordering[T]): Unit = {\n",
    "    var largestIndex = index\n",
    "    var leftIndex = 2 * index + 1\n",
    "    var rightIndex = 2 * index + 2\n",
    "\n",
    "    if (leftIndex < maxIndex\n",
    "      && ordering.compare(array(leftIndex), array(largestIndex)) > 0)\n",
    "      largestIndex = leftIndex\n",
    "    if (rightIndex < maxIndex\n",
    "      && ordering.compare(array(rightIndex), array(largestIndex)) > 0)\n",
    "      largestIndex = rightIndex\n",
    "    if (largestIndex != index) {\n",
    "      val temp = array(index)\n",
    "      array(index) = array(largestIndex)\n",
    "      array(largestIndex) = temp\n",
    "      heapify(array, largestIndex, maxIndex)\n",
    "    }\n",
    "  }\n",
    "}"
   ]
  },
  {
   "cell_type": "markdown",
   "metadata": {},
   "source": [
    "<h2>Comparison of the algorithms</h2>"
   ]
  },
  {
   "cell_type": "markdown",
   "metadata": {},
   "source": [
    "For the extra space used in sorting, all of these algorithms need only constant space. The former three algorithms run in $\\Theta(n^2)$ time for average and worst cases. However, they behave differently in the best case. Insertion sort runs in $\\Theta(n)$ time while the others in $\\Theta(n^2)$ time. Since selection sort is the obvious improvement from bubble sort, selection sort runs faster than bubble sort by constant factor. Heapsort runs in $\\Theta(n\\log n)$ time in best, average, worst cases."
   ]
  },
  {
   "cell_type": "markdown",
   "metadata": {},
   "source": [
    "<h2>Practical use cases</h2>"
   ]
  },
  {
   "cell_type": "markdown",
   "metadata": {},
   "source": [
    "These algorithms are not particularly fast in the average (expected) cases. However, because of the favorable near best case behaviour of the insertion sort, when you know in advance that the array is mostly sorted, insertion sort runs the fastest. Other than that, insertion sort is used when the array is short. For the charasteristics, insertion sort is often used to be combined with other sophisticated sorting algorithms.\n",
    "Heapsort runs relatively fast and has good worst case time complexity so that it is used when worst case behaivour is concerned."
   ]
  },
  {
   "cell_type": "code",
   "execution_count": null,
   "metadata": {},
   "outputs": [],
   "source": []
  }
 ],
 "metadata": {
  "kernelspec": {
   "display_name": "Scala",
   "language": "scala",
   "name": "scala"
  },
  "language_info": {
   "codemirror_mode": "text/x-scala",
   "file_extension": ".scala",
   "mimetype": "text/x-scala",
   "name": "scala211",
   "nbconvert_exporter": "script",
   "pygments_lexer": "scala",
   "version": "2.11.11"
  }
 },
 "nbformat": 4,
 "nbformat_minor": 2
}
